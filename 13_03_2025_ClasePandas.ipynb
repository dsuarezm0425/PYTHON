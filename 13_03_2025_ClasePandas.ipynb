{
  "nbformat": 4,
  "nbformat_minor": 0,
  "metadata": {
    "colab": {
      "provenance": []
    },
    "kernelspec": {
      "name": "python3",
      "display_name": "Python 3"
    },
    "language_info": {
      "name": "python"
    }
  },
  "cells": [
    {
      "cell_type": "code",
      "execution_count": null,
      "metadata": {
        "colab": {
          "base_uri": "https://localhost:8080/"
        },
        "id": "dcyllkoJ-GYU",
        "outputId": "5d26c804-7992-40fe-8ba0-73dbc6709dcc"
      },
      "outputs": [
        {
          "output_type": "stream",
          "name": "stdout",
          "text": [
            "2.2.2\n"
          ]
        }
      ],
      "source": [
        "import pandas as pd\n",
        "print(pd.__version__)"
      ]
    },
    {
      "cell_type": "code",
      "source": [
        "# Lista de edades\n",
        "lista_edades = [10, 12, 14, 16]\n",
        "\n",
        "# Serie de edades con nombres\n",
        "serie_edades = pd.Series([10, 12, 14, 16], index=[\"Ana\", \"Luis\", \"Sofía\", \"Carlos\"])\n",
        "serie_edades1 = pd.Series([10, 12, 14, 16])\n",
        "#Si no pones un índice en una Serie, pandas automáticamente asigna un número secuencial que empieza en 0."
      ],
      "metadata": {
        "id": "8-s7IoOJulfo"
      },
      "execution_count": null,
      "outputs": []
    },
    {
      "cell_type": "code",
      "source": [
        "# Crear el DataFrame\n",
        "datos = {\n",
        "    \"Nombre\": [\"Ana\", \"Luis\", \"Sofía\", \"Carlos\", \"Elena\"],\n",
        "    \"Edad\": [12, 13, 12, 14, 13],\n",
        "    \"Calificación\": [8.5, 9.0, 7.5, 8.0, 9.5]\n",
        "}\n",
        "\n",
        "df = pd.DataFrame(datos)\n",
        "\n",
        "# Mostrar el DataFrame\n",
        "print(df)\n"
      ],
      "metadata": {
        "colab": {
          "base_uri": "https://localhost:8080/"
        },
        "id": "uHdew1VzulTZ",
        "outputId": "0999d191-293e-4e62-8d95-ac23c854765c"
      },
      "execution_count": null,
      "outputs": [
        {
          "output_type": "stream",
          "name": "stdout",
          "text": [
            "   Nombre  Edad  Calificación\n",
            "0     Ana    12           8.5\n",
            "1    Luis    13           9.0\n",
            "2   Sofía    12           7.5\n",
            "3  Carlos    14           8.0\n",
            "4   Elena    13           9.5\n"
          ]
        }
      ]
    },
    {
      "cell_type": "code",
      "source": [
        "print(datos)"
      ],
      "metadata": {
        "colab": {
          "base_uri": "https://localhost:8080/"
        },
        "id": "7GAPznzzvluv",
        "outputId": "f701d58d-55fb-4920-ccad-712cf4b6a15d"
      },
      "execution_count": null,
      "outputs": [
        {
          "output_type": "stream",
          "name": "stdout",
          "text": [
            "{'Nombre': ['Ana', 'Luis', 'Sofía', 'Carlos', 'Elena'], 'Edad': [12, 13, 12, 14, 13], 'Calificación': [8.5, 9.0, 7.5, 8.0, 9.5]}\n"
          ]
        }
      ]
    },
    {
      "cell_type": "code",
      "source": [
        "from google.colab import drive\n",
        "drive.mount('/content/drive')"
      ],
      "metadata": {
        "colab": {
          "base_uri": "https://localhost:8080/"
        },
        "id": "WyzrKTik8eqy",
        "outputId": "0b6f20b3-9e38-4b35-8b6c-d686942afd72"
      },
      "execution_count": null,
      "outputs": [
        {
          "output_type": "stream",
          "name": "stdout",
          "text": [
            "Drive already mounted at /content/drive; to attempt to forcibly remount, call drive.mount(\"/content/drive\", force_remount=True).\n"
          ]
        }
      ]
    },
    {
      "cell_type": "code",
      "source": [
        "superheroes = pd.read_csv('/content/drive/MyDrive/Superheroes.csv', delimiter=';', encoding='Latin1')\n",
        "print(superheroes)\n",
        "print(type(superheroes))"
      ],
      "metadata": {
        "colab": {
          "base_uri": "https://localhost:8080/"
        },
        "id": "nzsA3cNp8cma",
        "outputId": "d3a6655e-0404-447b-e42d-ff6cef3488b1"
      },
      "execution_count": null,
      "outputs": [
        {
          "output_type": "stream",
          "name": "stdout",
          "text": [
            "             Nombre  Edad  Fuerza (Kg)  Velocidad  Habilidad mental  Volar  \\\n",
            "0            Vision     5       1800.0        4.0               5.0    1.0   \n",
            "1    Rocket Raccoon    15        100.0        4.5               3.0    0.0   \n",
            "2            Shazam    15       2500.0        6.5               3.5    1.0   \n",
            "3        Spider-Man    18          NaN        3.5               3.0    0.0   \n",
            "4             Raven    20        500.0        4.0               4.5    1.0   \n",
            "..              ...   ...          ...        ...               ...    ...   \n",
            "100        Mystique   100        800.0        3.0               3.0    0.0   \n",
            "101       Wolverine   137       1200.0        4.0               2.5    0.0   \n",
            "102   Silver Surfer  1000       2500.0       50.0               4.5    1.0   \n",
            "103            Thor  1500       2500.0        6.0               4.0    1.0   \n",
            "104    Wonder Woman  3000       1500.0        7.5               4.0    1.0   \n",
            "\n",
            "         Tipo  \n",
            "0       Héroe  \n",
            "1       Héroe  \n",
            "2       Héroe  \n",
            "3         NaN  \n",
            "4       Héroe  \n",
            "..        ...  \n",
            "100   Villano  \n",
            "101     Héroe  \n",
            "102     Héroe  \n",
            "103     Héroe  \n",
            "104     Héroe  \n",
            "\n",
            "[105 rows x 7 columns]\n",
            "<class 'pandas.core.frame.DataFrame'>\n"
          ]
        }
      ]
    },
    {
      "cell_type": "code",
      "source": [
        "print(superheroes.dtypes)"
      ],
      "metadata": {
        "colab": {
          "base_uri": "https://localhost:8080/"
        },
        "id": "9CJZvOIx-aec",
        "outputId": "8c1c7978-f7a3-4e25-e4a2-7359e0367b67"
      },
      "execution_count": null,
      "outputs": [
        {
          "output_type": "stream",
          "name": "stdout",
          "text": [
            "Nombre               object\n",
            "Edad                  int64\n",
            "Fuerza (Kg)         float64\n",
            "Velocidad           float64\n",
            "Habilidad mental    float64\n",
            "Volar               float64\n",
            "Tipo                 object\n",
            "dtype: object\n"
          ]
        }
      ]
    },
    {
      "cell_type": "code",
      "source": [
        "superheroes = superheroes.astype({\n",
        "    'Volar': 'bool',\n",
        "    'Fuerza (Kg)':'float',\n",
        "    'Velocidad': 'int',\n",
        "    'Edad': 'int',\n",
        "    'Habilidad mental': 'float',\n",
        "    'Nombre': 'string',\n",
        "    'Tipo': 'string'\n",
        "})"
      ],
      "metadata": {
        "id": "-23G_AVk_GEV"
      },
      "execution_count": null,
      "outputs": []
    },
    {
      "cell_type": "code",
      "source": [
        "print(superheroes.dtypes)"
      ],
      "metadata": {
        "colab": {
          "base_uri": "https://localhost:8080/"
        },
        "id": "YSO9bub6L6I6",
        "outputId": "3a22ab80-08fa-4098-96c8-91a3a4f3e299"
      },
      "execution_count": null,
      "outputs": [
        {
          "output_type": "stream",
          "name": "stdout",
          "text": [
            "Nombre              string[python]\n",
            "Edad                         int64\n",
            "Fuerza (Kg)                float64\n",
            "Velocidad                    int64\n",
            "Habilidad mental           float64\n",
            "Volar                         bool\n",
            "Tipo                string[python]\n",
            "dtype: object\n"
          ]
        }
      ]
    },
    {
      "cell_type": "code",
      "source": [
        "#Tamaño\n",
        "print(superheroes.shape)"
      ],
      "metadata": {
        "colab": {
          "base_uri": "https://localhost:8080/"
        },
        "id": "CZ9rGR-cZdaQ",
        "outputId": "1621aef3-40c5-4558-b360-96f50ee7ca98"
      },
      "execution_count": null,
      "outputs": [
        {
          "output_type": "stream",
          "name": "stdout",
          "text": [
            "(105, 7)\n"
          ]
        }
      ]
    },
    {
      "cell_type": "code",
      "source": [
        "# Ver si hay duplicados en todas las columnas\n",
        "print(superheroes.duplicated())\n",
        "\n"
      ],
      "metadata": {
        "colab": {
          "base_uri": "https://localhost:8080/"
        },
        "id": "HiOd0fcN98XM",
        "outputId": "15c4f6a9-b0dd-47c1-fcf4-72f86c33d670"
      },
      "execution_count": null,
      "outputs": [
        {
          "output_type": "stream",
          "name": "stdout",
          "text": [
            "0      False\n",
            "1      False\n",
            "2      False\n",
            "3      False\n",
            "4      False\n",
            "       ...  \n",
            "100    False\n",
            "101    False\n",
            "102    False\n",
            "103    False\n",
            "104    False\n",
            "Length: 105, dtype: bool\n"
          ]
        }
      ]
    },
    {
      "cell_type": "code",
      "source": [
        "# Contar cuántos duplicados hay\n",
        "print(\"Número de duplicados:\", superheroes.duplicated().sum())"
      ],
      "metadata": {
        "colab": {
          "base_uri": "https://localhost:8080/"
        },
        "id": "nqh7sl8oKMZj",
        "outputId": "4e98275d-c0d4-423c-bf1a-36ba8f98f982"
      },
      "execution_count": null,
      "outputs": [
        {
          "output_type": "stream",
          "name": "stdout",
          "text": [
            "Número de duplicados: 14\n"
          ]
        }
      ]
    },
    {
      "cell_type": "code",
      "source": [
        "data_sin_duplicados=superheroes.drop_duplicates()\n",
        "data_sin_duplicados"
      ],
      "metadata": {
        "colab": {
          "base_uri": "https://localhost:8080/",
          "height": 423
        },
        "id": "OYHmsbzO_rMn",
        "outputId": "a70f0aab-9464-436a-e822-f9c551cec989"
      },
      "execution_count": null,
      "outputs": [
        {
          "output_type": "execute_result",
          "data": {
            "text/plain": [
              "             Nombre  Edad  Fuerza (Kg)  Velocidad  Habilidad mental  Volar  \\\n",
              "0            Vision     5       1800.0          4               5.0   True   \n",
              "1    Rocket Raccoon    15        100.0          4               3.0  False   \n",
              "2            Shazam    15       2500.0          6               3.5   True   \n",
              "3        Spider-Man    18          NaN          3               3.0  False   \n",
              "4             Raven    20        500.0          4               4.5   True   \n",
              "..              ...   ...          ...        ...               ...    ...   \n",
              "100        Mystique   100        800.0          3               3.0  False   \n",
              "101       Wolverine   137       1200.0          4               2.5  False   \n",
              "102   Silver Surfer  1000       2500.0         50               4.5   True   \n",
              "103            Thor  1500       2500.0          6               4.0   True   \n",
              "104    Wonder Woman  3000       1500.0          7               4.0   True   \n",
              "\n",
              "         Tipo  \n",
              "0       Héroe  \n",
              "1       Héroe  \n",
              "2       Héroe  \n",
              "3        <NA>  \n",
              "4       Héroe  \n",
              "..        ...  \n",
              "100   Villano  \n",
              "101     Héroe  \n",
              "102     Héroe  \n",
              "103     Héroe  \n",
              "104     Héroe  \n",
              "\n",
              "[91 rows x 7 columns]"
            ],
            "text/html": [
              "\n",
              "  <div id=\"df-2908cdf3-1776-4857-869c-260c6d3ad54e\" class=\"colab-df-container\">\n",
              "    <div>\n",
              "<style scoped>\n",
              "    .dataframe tbody tr th:only-of-type {\n",
              "        vertical-align: middle;\n",
              "    }\n",
              "\n",
              "    .dataframe tbody tr th {\n",
              "        vertical-align: top;\n",
              "    }\n",
              "\n",
              "    .dataframe thead th {\n",
              "        text-align: right;\n",
              "    }\n",
              "</style>\n",
              "<table border=\"1\" class=\"dataframe\">\n",
              "  <thead>\n",
              "    <tr style=\"text-align: right;\">\n",
              "      <th></th>\n",
              "      <th>Nombre</th>\n",
              "      <th>Edad</th>\n",
              "      <th>Fuerza (Kg)</th>\n",
              "      <th>Velocidad</th>\n",
              "      <th>Habilidad mental</th>\n",
              "      <th>Volar</th>\n",
              "      <th>Tipo</th>\n",
              "    </tr>\n",
              "  </thead>\n",
              "  <tbody>\n",
              "    <tr>\n",
              "      <th>0</th>\n",
              "      <td>Vision</td>\n",
              "      <td>5</td>\n",
              "      <td>1800.0</td>\n",
              "      <td>4</td>\n",
              "      <td>5.0</td>\n",
              "      <td>True</td>\n",
              "      <td>Héroe</td>\n",
              "    </tr>\n",
              "    <tr>\n",
              "      <th>1</th>\n",
              "      <td>Rocket Raccoon</td>\n",
              "      <td>15</td>\n",
              "      <td>100.0</td>\n",
              "      <td>4</td>\n",
              "      <td>3.0</td>\n",
              "      <td>False</td>\n",
              "      <td>Héroe</td>\n",
              "    </tr>\n",
              "    <tr>\n",
              "      <th>2</th>\n",
              "      <td>Shazam</td>\n",
              "      <td>15</td>\n",
              "      <td>2500.0</td>\n",
              "      <td>6</td>\n",
              "      <td>3.5</td>\n",
              "      <td>True</td>\n",
              "      <td>Héroe</td>\n",
              "    </tr>\n",
              "    <tr>\n",
              "      <th>3</th>\n",
              "      <td>Spider-Man</td>\n",
              "      <td>18</td>\n",
              "      <td>NaN</td>\n",
              "      <td>3</td>\n",
              "      <td>3.0</td>\n",
              "      <td>False</td>\n",
              "      <td>&lt;NA&gt;</td>\n",
              "    </tr>\n",
              "    <tr>\n",
              "      <th>4</th>\n",
              "      <td>Raven</td>\n",
              "      <td>20</td>\n",
              "      <td>500.0</td>\n",
              "      <td>4</td>\n",
              "      <td>4.5</td>\n",
              "      <td>True</td>\n",
              "      <td>Héroe</td>\n",
              "    </tr>\n",
              "    <tr>\n",
              "      <th>...</th>\n",
              "      <td>...</td>\n",
              "      <td>...</td>\n",
              "      <td>...</td>\n",
              "      <td>...</td>\n",
              "      <td>...</td>\n",
              "      <td>...</td>\n",
              "      <td>...</td>\n",
              "    </tr>\n",
              "    <tr>\n",
              "      <th>100</th>\n",
              "      <td>Mystique</td>\n",
              "      <td>100</td>\n",
              "      <td>800.0</td>\n",
              "      <td>3</td>\n",
              "      <td>3.0</td>\n",
              "      <td>False</td>\n",
              "      <td>Villano</td>\n",
              "    </tr>\n",
              "    <tr>\n",
              "      <th>101</th>\n",
              "      <td>Wolverine</td>\n",
              "      <td>137</td>\n",
              "      <td>1200.0</td>\n",
              "      <td>4</td>\n",
              "      <td>2.5</td>\n",
              "      <td>False</td>\n",
              "      <td>Héroe</td>\n",
              "    </tr>\n",
              "    <tr>\n",
              "      <th>102</th>\n",
              "      <td>Silver Surfer</td>\n",
              "      <td>1000</td>\n",
              "      <td>2500.0</td>\n",
              "      <td>50</td>\n",
              "      <td>4.5</td>\n",
              "      <td>True</td>\n",
              "      <td>Héroe</td>\n",
              "    </tr>\n",
              "    <tr>\n",
              "      <th>103</th>\n",
              "      <td>Thor</td>\n",
              "      <td>1500</td>\n",
              "      <td>2500.0</td>\n",
              "      <td>6</td>\n",
              "      <td>4.0</td>\n",
              "      <td>True</td>\n",
              "      <td>Héroe</td>\n",
              "    </tr>\n",
              "    <tr>\n",
              "      <th>104</th>\n",
              "      <td>Wonder Woman</td>\n",
              "      <td>3000</td>\n",
              "      <td>1500.0</td>\n",
              "      <td>7</td>\n",
              "      <td>4.0</td>\n",
              "      <td>True</td>\n",
              "      <td>Héroe</td>\n",
              "    </tr>\n",
              "  </tbody>\n",
              "</table>\n",
              "<p>91 rows × 7 columns</p>\n",
              "</div>\n",
              "    <div class=\"colab-df-buttons\">\n",
              "\n",
              "  <div class=\"colab-df-container\">\n",
              "    <button class=\"colab-df-convert\" onclick=\"convertToInteractive('df-2908cdf3-1776-4857-869c-260c6d3ad54e')\"\n",
              "            title=\"Convert this dataframe to an interactive table.\"\n",
              "            style=\"display:none;\">\n",
              "\n",
              "  <svg xmlns=\"http://www.w3.org/2000/svg\" height=\"24px\" viewBox=\"0 -960 960 960\">\n",
              "    <path d=\"M120-120v-720h720v720H120Zm60-500h600v-160H180v160Zm220 220h160v-160H400v160Zm0 220h160v-160H400v160ZM180-400h160v-160H180v160Zm440 0h160v-160H620v160ZM180-180h160v-160H180v160Zm440 0h160v-160H620v160Z\"/>\n",
              "  </svg>\n",
              "    </button>\n",
              "\n",
              "  <style>\n",
              "    .colab-df-container {\n",
              "      display:flex;\n",
              "      gap: 12px;\n",
              "    }\n",
              "\n",
              "    .colab-df-convert {\n",
              "      background-color: #E8F0FE;\n",
              "      border: none;\n",
              "      border-radius: 50%;\n",
              "      cursor: pointer;\n",
              "      display: none;\n",
              "      fill: #1967D2;\n",
              "      height: 32px;\n",
              "      padding: 0 0 0 0;\n",
              "      width: 32px;\n",
              "    }\n",
              "\n",
              "    .colab-df-convert:hover {\n",
              "      background-color: #E2EBFA;\n",
              "      box-shadow: 0px 1px 2px rgba(60, 64, 67, 0.3), 0px 1px 3px 1px rgba(60, 64, 67, 0.15);\n",
              "      fill: #174EA6;\n",
              "    }\n",
              "\n",
              "    .colab-df-buttons div {\n",
              "      margin-bottom: 4px;\n",
              "    }\n",
              "\n",
              "    [theme=dark] .colab-df-convert {\n",
              "      background-color: #3B4455;\n",
              "      fill: #D2E3FC;\n",
              "    }\n",
              "\n",
              "    [theme=dark] .colab-df-convert:hover {\n",
              "      background-color: #434B5C;\n",
              "      box-shadow: 0px 1px 3px 1px rgba(0, 0, 0, 0.15);\n",
              "      filter: drop-shadow(0px 1px 2px rgba(0, 0, 0, 0.3));\n",
              "      fill: #FFFFFF;\n",
              "    }\n",
              "  </style>\n",
              "\n",
              "    <script>\n",
              "      const buttonEl =\n",
              "        document.querySelector('#df-2908cdf3-1776-4857-869c-260c6d3ad54e button.colab-df-convert');\n",
              "      buttonEl.style.display =\n",
              "        google.colab.kernel.accessAllowed ? 'block' : 'none';\n",
              "\n",
              "      async function convertToInteractive(key) {\n",
              "        const element = document.querySelector('#df-2908cdf3-1776-4857-869c-260c6d3ad54e');\n",
              "        const dataTable =\n",
              "          await google.colab.kernel.invokeFunction('convertToInteractive',\n",
              "                                                    [key], {});\n",
              "        if (!dataTable) return;\n",
              "\n",
              "        const docLinkHtml = 'Like what you see? Visit the ' +\n",
              "          '<a target=\"_blank\" href=https://colab.research.google.com/notebooks/data_table.ipynb>data table notebook</a>'\n",
              "          + ' to learn more about interactive tables.';\n",
              "        element.innerHTML = '';\n",
              "        dataTable['output_type'] = 'display_data';\n",
              "        await google.colab.output.renderOutput(dataTable, element);\n",
              "        const docLink = document.createElement('div');\n",
              "        docLink.innerHTML = docLinkHtml;\n",
              "        element.appendChild(docLink);\n",
              "      }\n",
              "    </script>\n",
              "  </div>\n",
              "\n",
              "\n",
              "<div id=\"df-00a74c1d-fedc-4b06-8f52-2511f0e9dd88\">\n",
              "  <button class=\"colab-df-quickchart\" onclick=\"quickchart('df-00a74c1d-fedc-4b06-8f52-2511f0e9dd88')\"\n",
              "            title=\"Suggest charts\"\n",
              "            style=\"display:none;\">\n",
              "\n",
              "<svg xmlns=\"http://www.w3.org/2000/svg\" height=\"24px\"viewBox=\"0 0 24 24\"\n",
              "     width=\"24px\">\n",
              "    <g>\n",
              "        <path d=\"M19 3H5c-1.1 0-2 .9-2 2v14c0 1.1.9 2 2 2h14c1.1 0 2-.9 2-2V5c0-1.1-.9-2-2-2zM9 17H7v-7h2v7zm4 0h-2V7h2v10zm4 0h-2v-4h2v4z\"/>\n",
              "    </g>\n",
              "</svg>\n",
              "  </button>\n",
              "\n",
              "<style>\n",
              "  .colab-df-quickchart {\n",
              "      --bg-color: #E8F0FE;\n",
              "      --fill-color: #1967D2;\n",
              "      --hover-bg-color: #E2EBFA;\n",
              "      --hover-fill-color: #174EA6;\n",
              "      --disabled-fill-color: #AAA;\n",
              "      --disabled-bg-color: #DDD;\n",
              "  }\n",
              "\n",
              "  [theme=dark] .colab-df-quickchart {\n",
              "      --bg-color: #3B4455;\n",
              "      --fill-color: #D2E3FC;\n",
              "      --hover-bg-color: #434B5C;\n",
              "      --hover-fill-color: #FFFFFF;\n",
              "      --disabled-bg-color: #3B4455;\n",
              "      --disabled-fill-color: #666;\n",
              "  }\n",
              "\n",
              "  .colab-df-quickchart {\n",
              "    background-color: var(--bg-color);\n",
              "    border: none;\n",
              "    border-radius: 50%;\n",
              "    cursor: pointer;\n",
              "    display: none;\n",
              "    fill: var(--fill-color);\n",
              "    height: 32px;\n",
              "    padding: 0;\n",
              "    width: 32px;\n",
              "  }\n",
              "\n",
              "  .colab-df-quickchart:hover {\n",
              "    background-color: var(--hover-bg-color);\n",
              "    box-shadow: 0 1px 2px rgba(60, 64, 67, 0.3), 0 1px 3px 1px rgba(60, 64, 67, 0.15);\n",
              "    fill: var(--button-hover-fill-color);\n",
              "  }\n",
              "\n",
              "  .colab-df-quickchart-complete:disabled,\n",
              "  .colab-df-quickchart-complete:disabled:hover {\n",
              "    background-color: var(--disabled-bg-color);\n",
              "    fill: var(--disabled-fill-color);\n",
              "    box-shadow: none;\n",
              "  }\n",
              "\n",
              "  .colab-df-spinner {\n",
              "    border: 2px solid var(--fill-color);\n",
              "    border-color: transparent;\n",
              "    border-bottom-color: var(--fill-color);\n",
              "    animation:\n",
              "      spin 1s steps(1) infinite;\n",
              "  }\n",
              "\n",
              "  @keyframes spin {\n",
              "    0% {\n",
              "      border-color: transparent;\n",
              "      border-bottom-color: var(--fill-color);\n",
              "      border-left-color: var(--fill-color);\n",
              "    }\n",
              "    20% {\n",
              "      border-color: transparent;\n",
              "      border-left-color: var(--fill-color);\n",
              "      border-top-color: var(--fill-color);\n",
              "    }\n",
              "    30% {\n",
              "      border-color: transparent;\n",
              "      border-left-color: var(--fill-color);\n",
              "      border-top-color: var(--fill-color);\n",
              "      border-right-color: var(--fill-color);\n",
              "    }\n",
              "    40% {\n",
              "      border-color: transparent;\n",
              "      border-right-color: var(--fill-color);\n",
              "      border-top-color: var(--fill-color);\n",
              "    }\n",
              "    60% {\n",
              "      border-color: transparent;\n",
              "      border-right-color: var(--fill-color);\n",
              "    }\n",
              "    80% {\n",
              "      border-color: transparent;\n",
              "      border-right-color: var(--fill-color);\n",
              "      border-bottom-color: var(--fill-color);\n",
              "    }\n",
              "    90% {\n",
              "      border-color: transparent;\n",
              "      border-bottom-color: var(--fill-color);\n",
              "    }\n",
              "  }\n",
              "</style>\n",
              "\n",
              "  <script>\n",
              "    async function quickchart(key) {\n",
              "      const quickchartButtonEl =\n",
              "        document.querySelector('#' + key + ' button');\n",
              "      quickchartButtonEl.disabled = true;  // To prevent multiple clicks.\n",
              "      quickchartButtonEl.classList.add('colab-df-spinner');\n",
              "      try {\n",
              "        const charts = await google.colab.kernel.invokeFunction(\n",
              "            'suggestCharts', [key], {});\n",
              "      } catch (error) {\n",
              "        console.error('Error during call to suggestCharts:', error);\n",
              "      }\n",
              "      quickchartButtonEl.classList.remove('colab-df-spinner');\n",
              "      quickchartButtonEl.classList.add('colab-df-quickchart-complete');\n",
              "    }\n",
              "    (() => {\n",
              "      let quickchartButtonEl =\n",
              "        document.querySelector('#df-00a74c1d-fedc-4b06-8f52-2511f0e9dd88 button');\n",
              "      quickchartButtonEl.style.display =\n",
              "        google.colab.kernel.accessAllowed ? 'block' : 'none';\n",
              "    })();\n",
              "  </script>\n",
              "</div>\n",
              "\n",
              "  <div id=\"id_f69dbb43-42a2-4dbe-bbe7-d0f787d1d12d\">\n",
              "    <style>\n",
              "      .colab-df-generate {\n",
              "        background-color: #E8F0FE;\n",
              "        border: none;\n",
              "        border-radius: 50%;\n",
              "        cursor: pointer;\n",
              "        display: none;\n",
              "        fill: #1967D2;\n",
              "        height: 32px;\n",
              "        padding: 0 0 0 0;\n",
              "        width: 32px;\n",
              "      }\n",
              "\n",
              "      .colab-df-generate:hover {\n",
              "        background-color: #E2EBFA;\n",
              "        box-shadow: 0px 1px 2px rgba(60, 64, 67, 0.3), 0px 1px 3px 1px rgba(60, 64, 67, 0.15);\n",
              "        fill: #174EA6;\n",
              "      }\n",
              "\n",
              "      [theme=dark] .colab-df-generate {\n",
              "        background-color: #3B4455;\n",
              "        fill: #D2E3FC;\n",
              "      }\n",
              "\n",
              "      [theme=dark] .colab-df-generate:hover {\n",
              "        background-color: #434B5C;\n",
              "        box-shadow: 0px 1px 3px 1px rgba(0, 0, 0, 0.15);\n",
              "        filter: drop-shadow(0px 1px 2px rgba(0, 0, 0, 0.3));\n",
              "        fill: #FFFFFF;\n",
              "      }\n",
              "    </style>\n",
              "    <button class=\"colab-df-generate\" onclick=\"generateWithVariable('data_sin_duplicados')\"\n",
              "            title=\"Generate code using this dataframe.\"\n",
              "            style=\"display:none;\">\n",
              "\n",
              "  <svg xmlns=\"http://www.w3.org/2000/svg\" height=\"24px\"viewBox=\"0 0 24 24\"\n",
              "       width=\"24px\">\n",
              "    <path d=\"M7,19H8.4L18.45,9,17,7.55,7,17.6ZM5,21V16.75L18.45,3.32a2,2,0,0,1,2.83,0l1.4,1.43a1.91,1.91,0,0,1,.58,1.4,1.91,1.91,0,0,1-.58,1.4L9.25,21ZM18.45,9,17,7.55Zm-12,3A5.31,5.31,0,0,0,4.9,8.1,5.31,5.31,0,0,0,1,6.5,5.31,5.31,0,0,0,4.9,4.9,5.31,5.31,0,0,0,6.5,1,5.31,5.31,0,0,0,8.1,4.9,5.31,5.31,0,0,0,12,6.5,5.46,5.46,0,0,0,6.5,12Z\"/>\n",
              "  </svg>\n",
              "    </button>\n",
              "    <script>\n",
              "      (() => {\n",
              "      const buttonEl =\n",
              "        document.querySelector('#id_f69dbb43-42a2-4dbe-bbe7-d0f787d1d12d button.colab-df-generate');\n",
              "      buttonEl.style.display =\n",
              "        google.colab.kernel.accessAllowed ? 'block' : 'none';\n",
              "\n",
              "      buttonEl.onclick = () => {\n",
              "        google.colab.notebook.generateWithVariable('data_sin_duplicados');\n",
              "      }\n",
              "      })();\n",
              "    </script>\n",
              "  </div>\n",
              "\n",
              "    </div>\n",
              "  </div>\n"
            ],
            "application/vnd.google.colaboratory.intrinsic+json": {
              "type": "dataframe",
              "variable_name": "data_sin_duplicados",
              "summary": "{\n  \"name\": \"data_sin_duplicados\",\n  \"rows\": 91,\n  \"fields\": [\n    {\n      \"column\": \"Nombre\",\n      \"properties\": {\n        \"dtype\": \"string\",\n        \"num_unique_values\": 89,\n        \"samples\": [\n          \"Zatanna\",\n          \"Constantine\",\n          \"Jean Grey\"\n        ],\n        \"semantic_type\": \"\",\n        \"description\": \"\"\n      }\n    },\n    {\n      \"column\": \"Edad\",\n      \"properties\": {\n        \"dtype\": \"number\",\n        \"std\": 358,\n        \"min\": 5,\n        \"max\": 3000,\n        \"num_unique_values\": 21,\n        \"samples\": [\n          5,\n          137,\n          80\n        ],\n        \"semantic_type\": \"\",\n        \"description\": \"\"\n      }\n    },\n    {\n      \"column\": \"Fuerza (Kg)\",\n      \"properties\": {\n        \"dtype\": \"number\",\n        \"std\": 1614.4476381941247,\n        \"min\": 100.0,\n        \"max\": 10000.0,\n        \"num_unique_values\": 22,\n        \"samples\": [\n          1800.0,\n          600.0,\n          700.0\n        ],\n        \"semantic_type\": \"\",\n        \"description\": \"\"\n      }\n    },\n    {\n      \"column\": \"Velocidad\",\n      \"properties\": {\n        \"dtype\": \"number\",\n        \"std\": 14,\n        \"min\": 1,\n        \"max\": 100,\n        \"num_unique_values\": 11,\n        \"samples\": [\n          8,\n          4,\n          1\n        ],\n        \"semantic_type\": \"\",\n        \"description\": \"\"\n      }\n    },\n    {\n      \"column\": \"Habilidad mental\",\n      \"properties\": {\n        \"dtype\": \"number\",\n        \"std\": 0.7483000588376475,\n        \"min\": 2.0,\n        \"max\": 5.0,\n        \"num_unique_values\": 7,\n        \"samples\": [\n          5.0,\n          3.0,\n          2.5\n        ],\n        \"semantic_type\": \"\",\n        \"description\": \"\"\n      }\n    },\n    {\n      \"column\": \"Volar\",\n      \"properties\": {\n        \"dtype\": \"boolean\",\n        \"num_unique_values\": 2,\n        \"samples\": [\n          false,\n          true\n        ],\n        \"semantic_type\": \"\",\n        \"description\": \"\"\n      }\n    },\n    {\n      \"column\": \"Tipo\",\n      \"properties\": {\n        \"dtype\": \"string\",\n        \"num_unique_values\": 3,\n        \"samples\": [\n          \" H\\u00e9roe\",\n          \" Anti-h\\u00e9roe\"\n        ],\n        \"semantic_type\": \"\",\n        \"description\": \"\"\n      }\n    }\n  ]\n}"
            }
          },
          "metadata": {},
          "execution_count": 24
        }
      ]
    },
    {
      "cell_type": "code",
      "source": [
        "print(data_sin_duplicados.shape)"
      ],
      "metadata": {
        "colab": {
          "base_uri": "https://localhost:8080/"
        },
        "id": "O_SwCXAW_mMJ",
        "outputId": "86d0c155-027d-4fc8-b70f-1acd4233a54a"
      },
      "execution_count": null,
      "outputs": [
        {
          "output_type": "stream",
          "name": "stdout",
          "text": [
            "(91, 7)\n"
          ]
        }
      ]
    }
  ]
}