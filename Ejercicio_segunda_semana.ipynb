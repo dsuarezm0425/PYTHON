{
  "nbformat": 4,
  "nbformat_minor": 0,
  "metadata": {
    "colab": {
      "provenance": []
    },
    "kernelspec": {
      "name": "python3",
      "display_name": "Python 3"
    },
    "language_info": {
      "name": "python"
    }
  },
  "cells": [
    {
      "cell_type": "code",
      "execution_count": null,
      "metadata": {
        "id": "jFNYEoHbrHWO"
      },
      "outputs": [],
      "source": [
        "# Definimos las estructuras de datos\n",
        "familia = (\n",
        "    \"Ana\",\n",
        "    \"Luis\",\n",
        "    [\"Carlos\", \"María\"],  # Lista dentro de la tupla\n",
        "    {\"mascota\": \"Perro\", \"casa\": \"Grande\"},  # Diccionario dentro de la tupla\n",
        "    {30, 40, 50}  # Set dentro de la tupla\n",
        ")\n",
        "\n",
        "pasatiempos = {\n",
        "    \"Ana\": [\"leer\", \"bailar\", \"pintar\"],  # Lista dentro del diccionario\n",
        "    \"Luis\": {\"deporte\": \"fútbol\", \"música\": \"guitarra\"},  # Diccionario dentro del diccionario\n",
        "    \"Carlos\": {\"edad\": 12, \"gustos\": {\"juegos\", \"dibujar\"}},  # Set dentro del diccionario\n",
        "}\n",
        "\n",
        "# Preguntas: Imprime las respuestas usando métodos y funciones\n",
        "\n",
        "# 1. ¿Cuántos elementos tiene la tupla 'familia'?\n",
        "# 2. ¿Cómo se llama el último hijo en la lista dentro de 'familia'? Usa índices negativos.\n",
        "# 3. Convierte el nombre de la mascota en mayúsculas usando '.upper()'\n",
        "# 4. ¿Cuántos pasatiempos tiene Ana? Usa 'len()'\n",
        "# 5. Obtén el deporte favorito de Luis usando '.get()'\n",
        "# 6. Suma los números en el set dentro de la tupla 'familia' usando 'sum()'\n",
        "# 7. ¿El set de gustos de Carlos contiene la palabra \"dibujar\"? Usa 'in'\n",
        "\n"
      ]
    }
  ]
}